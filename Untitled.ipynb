{
 "cells": [
  {
   "cell_type": "code",
   "execution_count": 49,
   "id": "5038ee8a",
   "metadata": {
    "scrolled": false
   },
   "outputs": [],
   "source": [
    "import pandas as pd\n",
    "from datetime import datetime, timedelta\n",
    "\n",
    "# Load the dataset with error handling\n",
    "df = pd.read_csv(\"WA_Fn-UseC_-Telco-Customer-Churn (1).csv\")\n",
    "\n",
    "\n",
    "\n",
    "# Generate Date Sequence\n",
    "start_date = datetime(2004, 1, 1)\n",
    "date_range = pd.date_range(start_date, periods=len(df), freq='D')\n",
    "df['DateSequence'] = date_range\n",
    "\n",
    "# Save DataFrame after generating Date Sequence\n",
    "df.to_csv('output_after_date_sequence.csv', index=False)\n",
    "\n",
    "# Create 'ChargeCategory' Column\n",
    "df['ChargeCategory'] = pd.cut(df['MonthlyCharges'], bins=[-float('inf'), 50, 100, float('inf')],\n",
    "                              labels=['Low', 'Medium', 'High'], right=False)\n",
    "\n",
    "# Save DataFrame after creating 'ChargeCategory' column\n",
    "df.to_csv('output_after_charge_category.csv', index=False)\n",
    "\n",
    "# Replace 'Churn' Values and Save to CSV with error handling\n",
    "\n",
    "df['Churn'] = df['Churn'].replace({'Yes': 1, 'No': 0})\n",
    "df.to_csv('output_data.csv', index=False)\n",
    "\n",
    "\n",
    "\n",
    "\n",
    "\n",
    "\n"
   ]
  },
  {
   "cell_type": "code",
   "execution_count": null,
   "id": "0bd5aaa3",
   "metadata": {},
   "outputs": [],
   "source": []
  },
  {
   "cell_type": "code",
   "execution_count": null,
   "id": "58141d56",
   "metadata": {},
   "outputs": [],
   "source": []
  },
  {
   "cell_type": "code",
   "execution_count": null,
   "id": "c94e5328",
   "metadata": {},
   "outputs": [],
   "source": []
  }
 ],
 "metadata": {
  "kernelspec": {
   "display_name": "Python 3 (ipykernel)",
   "language": "python",
   "name": "python3"
  },
  "language_info": {
   "codemirror_mode": {
    "name": "ipython",
    "version": 3
   },
   "file_extension": ".py",
   "mimetype": "text/x-python",
   "name": "python",
   "nbconvert_exporter": "python",
   "pygments_lexer": "ipython3",
   "version": "3.10.9"
  }
 },
 "nbformat": 4,
 "nbformat_minor": 5
}
