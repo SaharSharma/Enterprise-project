{
 "cells": [
  {
   "cell_type": "code",
   "execution_count": 14,
   "id": "64c43043",
   "metadata": {},
   "outputs": [],
   "source": [
    "import pandas as pd\n",
    "from datetime import datetime, timedelta\n",
    "\n",
    "df = pd.read_csv(\"ChurnData.csv\")\n",
    "\n",
    "start_date =datetime(2004,1,1)\n",
    "date_range = pd.date_range(start_date, periods=len(df),freq='D')\n",
    "df['DateSequence']=date_range\n",
    "\n",
    "df['ChargeCategory'] = pd.cut(df['MonthlyCharges'],bins=[-float('inf'),50,100,float('inf')],labels=['Low','Medium','High'],right=False)\n",
    "\n",
    "df['Churn'] = df['Churn'].replace({'Yes': 1 , 'No' : 0})\n",
    "\n",
    "df.to_csv('output_data.csv',index=False)"
   ]
  },
  {
   "cell_type": "code",
   "execution_count": null,
   "id": "63c58ea5",
   "metadata": {},
   "outputs": [],
   "source": []
  }
 ],
 "metadata": {
  "kernelspec": {
   "display_name": "Python 3 (ipykernel)",
   "language": "python",
   "name": "python3"
  },
  "language_info": {
   "codemirror_mode": {
    "name": "ipython",
    "version": 3
   },
   "file_extension": ".py",
   "mimetype": "text/x-python",
   "name": "python",
   "nbconvert_exporter": "python",
   "pygments_lexer": "ipython3",
   "version": "3.10.9"
  }
 },
 "nbformat": 4,
 "nbformat_minor": 5
}
